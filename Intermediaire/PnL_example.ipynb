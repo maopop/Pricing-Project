{
 "cells": [
  {
   "cell_type": "code",
   "execution_count": 1,
   "metadata": {},
   "outputs": [],
   "source": [
    "import pandas as pd\n",
    "import numpy as np\n",
    "import seaborn as sns\n",
    "import matplotlib.pyplot as plt\n",
    "import random\n",
    "from scipy.stats import norm\n",
    "from math import *"
   ]
  },
  {
   "cell_type": "code",
   "execution_count": 2,
   "metadata": {},
   "outputs": [],
   "source": [
    "class BlackScholes:\n",
    "    \n",
    "        \n",
    "    def ft_bs_pricing(self, Option_type,S,K,T,r,rf,sigma):\n",
    "        \n",
    "        global d1\n",
    "        global d2\n",
    "        d1 = (log(S / K) + (r - rf + sigma ** 2 / 2) * T) / (sigma * sqrt(T)) \n",
    "        d2 = d1 - sigma* sqrt(T) \n",
    "        \n",
    "        if Option_type == \"Call\":\n",
    "            option_price = S* exp(-rf*T)* norm.cdf(d1) - K * exp(-r*T)*norm.cdf(d2)\n",
    "            return option_price\n",
    "        elif Option_type == \"Put\":\n",
    "            option_price = K* exp(-r*T)* norm.cdf(-d2) - S * exp(-rf*T)*norm.cdf(-d1)\n",
    "            return option_price\n",
    "        else:\n",
    "            return \"incorrect parameters\"\n",
    "       \n",
    "   \n",
    "    def ft_delta(self, Option_type,S,K,T,r,rf,sigma):\n",
    "        if Option_type == \"Call\":\n",
    "            delta = exp(-rf*T) * norm.cdf(d1)   \n",
    "        elif Option_type == \"Put\":\n",
    "            delta = exp(-rf*T) * (norm.cdf(d1)-1)\n",
    "        return delta\n",
    "    \n",
    "    \n",
    "    def ft_gamma(self, Option_type,S,K,T,r,rf,sigma):\n",
    "        return (norm.pdf(d1)*exp(-rf*T) )/ ( S*sigma*sqrt(T) )\n",
    "    \n",
    "    def ft_vega(self, Option_type,S,K,T,r,rf,sigma):\n",
    "        return S*sqrt(T)*norm.pdf(d1)*exp(-rf*T)\n",
    "    \n",
    "    def ft_theta(self, Option_type,S,K,T,r,rf,sigma):\n",
    "        a = (-S *norm.pdf(d1) *sigma* exp(-rf*T)) /(2*sqrt(T))\n",
    "        b = rf * S * norm.cdf(d1) * exp(-rf*T) \n",
    "        c = r * K * exp(-r*T)* norm.cdf(d2)\n",
    "        b2 = rf * S * norm.cdf(-d1) * exp(-rf*T) \n",
    "        c2 = r * K * exp(-r*T)* norm.cdf(-d2)\n",
    "        if Option_type == \"Call\":\n",
    "             theta = a+b-c   \n",
    "        elif Option_type == \"Put\":\n",
    "            theta = a-b2+c2 \n",
    "        return theta\n",
    "    \n",
    "    def ft_rho_dom(self, Option_type,S,K,T,r,rf,sigma):\n",
    "        if Option_type == \"Call\":\n",
    "            rho_dom = K * T *exp(-r*T) * norm.pdf(d2)   \n",
    "        elif Option_type == \"Put\":\n",
    "            rho_dom = -K * T *exp(-r*T) * norm.pdf(-d2)  \n",
    "        return rho_dom\n",
    "    \n",
    "    def ft_rho_fgn(self, Option_type,S,K,T,r,rf,sigma):\n",
    "        if Option_type == \"Call\":\n",
    "            rho_fgn = -S * T *exp(-rf*T) * norm.pdf(d1)   \n",
    "        elif Option_type == \"Put\":\n",
    "            rho_fgn = S * T *exp(-rf*T) * norm.pdf(-d1)  \n",
    "        return rho_fgn\n",
    "    \n",
    "    def ft_vanna(self, Option_type,S,K,T,r,rf,sigma):\n",
    "        return -exp(-rf*T) * norm.cdf(d1) * d2 / sigma \n",
    "    \n",
    "    \n",
    "    def __init__(self,Option_type,S,K,T,r,rf,sigma):\n",
    "        \n",
    "        self.option_type = Option_type\n",
    "        self.asset_price = S\n",
    "        self.strike = K\n",
    "        self.time_to_exp = T\n",
    "        self.d_rate = r\n",
    "        self.f_rate = rf\n",
    "        self.asset_volatility = sigma\n",
    "        \n",
    "        self.price = self.ft_bs_pricing(Option_type,S,K,T,r,rf,sigma)\n",
    "        \n",
    "        \n",
    "        self.delta = self.ft_delta(Option_type,S,K,T,r,rf,sigma)\n",
    "        self.gamma = self.ft_gamma(Option_type,S,K,T,r,rf,sigma)\n",
    "        self.theta = self.ft_theta(Option_type,S,K,T,r,rf,sigma)\n",
    "        self.vega = self.ft_vega(Option_type,S,K,T,r,rf,sigma)\n",
    "        self.rho_dom = self.ft_rho_dom(Option_type,S,K,T,r,rf,sigma)\n",
    "        self.rho_fgn = self.ft_rho_fgn(Option_type,S,K,T,r,rf,sigma)\n",
    "        self.vanna = self.ft_vanna(Option_type,S,K,T,r,rf,sigma)\n",
    "       "
   ]
  },
  {
   "cell_type": "code",
   "execution_count": 43,
   "metadata": {},
   "outputs": [
    {
     "name": "stdout",
     "output_type": "stream",
     "text": [
      "price =  -19386.53\n",
      "delta =  0.99\n",
      "gamma =  2.9\n",
      "vega =  0.0\n",
      "theta =  -0.02\n"
     ]
    }
   ],
   "source": [
    "# test de la fonction\n",
    "Option_type = \"Call\"\n",
    "N = -929000\n",
    "S = 1.2034\n",
    "K = 1.1826\n",
    "r = 0.527843/100\n",
    "rf = 0.137174/100\n",
    "sigma = 8.21/100\n",
    "\n",
    "T1 = '19/04/2021'\n",
    "T2 = '22/04/2021'\n",
    "T = pd.to_datetime(T2) - pd.to_datetime(T1)\n",
    "T  = T.days /360\n",
    "\n",
    "bs = BlackScholes(Option_type,S,K,T,r,rf,sigma)\n",
    "print( 'price = ', round(N*bs.price,2) )\n",
    "print( 'delta = ', round(bs.delta,2) )\n",
    "print( 'gamma = ', round(bs.gamma,2) )\n",
    "print( 'vega = ', round(bs.vega,2) )\n",
    "print( 'theta = ', round(bs.theta,2) )"
   ]
  },
  {
   "cell_type": "code",
   "execution_count": null,
   "metadata": {},
   "outputs": [],
   "source": []
  },
  {
   "cell_type": "code",
   "execution_count": null,
   "metadata": {},
   "outputs": [],
   "source": []
  },
  {
   "cell_type": "markdown",
   "metadata": {},
   "source": [
    "## Risked based method"
   ]
  },
  {
   "cell_type": "markdown",
   "metadata": {},
   "source": [
    "### PnL spot\n",
    "On sait que :\n",
    "$ V(S_1) = V(S_0) + \\frac{dV}{dS} * (S_1-S_0) + \\frac{1}{2!}\\frac{d^2V}{dS^2} * (S_1-S_0)^2 + \\frac{1}{3!} \\frac{d^3V}{dS^3} * (S_1-S_0)^3 + $... \n",
    "Avec $\\frac{dV}{dS} = \\Delta$ de l'option, $\\frac{d^2V}{dS^2} = \\gamma$ de l'option.\n",
    "\n",
    "Comme on ne connait pas $\\frac{d^3V}{dS^3}$, on  peut l'estimer par les différentielles : \n",
    "\n",
    "$\\frac{d^3V}{dS^3} = \\frac{d}{dS}\\left(\\frac{d^2V}{dS^2}\\right) = \\frac{d}{dS}\\left(\\gamma\\right) =~ \\frac{\\Delta \\gamma}{\\Delta S}$\n",
    "\n",
    "Ainsi on peut ecrire:\n",
    "\n",
    "$ V(S_1) = V(S_0) + \\Delta * (S_1-S_0) + \\frac{1}{2!}\\gamma * (S_1-S_0)^2 + \\frac{1}{3!}\\frac{\\gamma_1 - \\gamma_0}{S_1-S_0} * (S_1-S_0)^3 + $... \n",
    "\n",
    "D'où :\n",
    "\n",
    "$ V(S_1) = V(S_0) + \\Delta * (S_1-S_0) + \\frac{1}{2}\\gamma * (S_1-S_0)^2 + \\frac{1}{6}(\\gamma_1 - \\gamma_0) * (S_1-S_0)^2 + $... \n"
   ]
  },
  {
   "cell_type": "code",
   "execution_count": null,
   "metadata": {},
   "outputs": [],
   "source": []
  },
  {
   "cell_type": "code",
   "execution_count": 13,
   "metadata": {},
   "outputs": [
    {
     "name": "stdout",
     "output_type": "stream",
     "text": [
      "Total PnL 28.20782490561346\n",
      "Observed PnL 30.73023269480405\n",
      "\n",
      "Impact of price change 85.67 %\n",
      "Impact of time -1.07 %\n",
      "Impact of volatility 2.4 %\n",
      "Impact of domestic rate 2.4 %\n",
      "Impact of foreign rate 2.4 %\n",
      "Unexplained PnL 8.21 %\n"
     ]
    }
   ],
   "source": [
    "bs = BlackScholes(\"Call\",100,100,1,0.04,0.08,0.30)\n",
    "\n",
    "price1 = bs.price\n",
    "delta1 = bs.delta \n",
    "gamma1 = bs.gamma \n",
    "vega1 = bs.vega\n",
    "theta1 = bs.theta\n",
    "rho_dom1 = bs.rho_dom\n",
    "rho_fgn1 = bs.rho_fgn\n",
    "\n",
    "bs2 = BlackScholes(\"Call\",140,100,0.9,0.06,0.06,0.32) \n",
    "price2 = bs2.price\n",
    "\n",
    "var_spot = 40\n",
    "var_vol = 0.02\n",
    "var_time = -0.1\n",
    "var_rho_dom = 0.02\n",
    "var_rho_fgn = -0.02\n",
    "\n",
    "# taylor series approx : f(x) = f(x0) + f'(x0)(x-x0) + f''(x0)(x-x0)**2 +... \n",
    "PnL_spot =  delta1*var_spot + 0.5*gamma1*var_spot**2 + (1/6)*(bs2.gamma -bs.gamma)*var_spot**2 \n",
    "PnL_vol = vega1*var_vol\n",
    "PnL_time = -theta1*var_time\n",
    "PnL_dom = rho_dom1*var_rho_dom \n",
    "PnL_fgn = rho_fgn1*var_rho_fgn\n",
    "PnL = PnL_spot  + PnL_time + PnL_vol + PnL_dom + PnL_fgn\n",
    "\n",
    "Real_PnL = price2 - price1\n",
    "print(\"Total PnL\",PnL)\n",
    "print(\"Observed PnL\",Real_PnL)\n",
    "print(end = '\\n')\n",
    "\n",
    "print(\"Impact of price change\", round(PnL_spot/Real_PnL*100,2),\"%\")\n",
    "print(\"Impact of time\", round(PnL_time/Real_PnL*100,2),\"%\")\n",
    "print(\"Impact of volatility\", round(PnL_vol/Real_PnL*100,2),\"%\")\n",
    "print(\"Impact of domestic rate\", round(PnL_dom/Real_PnL*100,2),\"%\")\n",
    "print(\"Impact of foreign rate\", round(PnL_fgn/Real_PnL*100,2),\"%\")\n",
    "print(\"Unexplained PnL\",round( (Real_PnL - PnL) /Real_PnL*100,2),\"%\") \n"
   ]
  },
  {
   "cell_type": "code",
   "execution_count": null,
   "metadata": {},
   "outputs": [],
   "source": []
  },
  {
   "cell_type": "markdown",
   "metadata": {},
   "source": [
    "## Step re-evaluation"
   ]
  },
  {
   "cell_type": "code",
   "execution_count": 12,
   "metadata": {},
   "outputs": [],
   "source": [
    "Option_type = \"Call\"\n",
    "K = 100\n",
    "\n",
    "S1 = 100\n",
    "T1 = 1\n",
    "r1 = 0.04\n",
    "rf1 = 0.08\n",
    "sigma1 = 0.30\n",
    "\n",
    "S2 = 140\n",
    "T2 = 0.9\n",
    "r2 = 0.06\n",
    "rf2 = 0.06\n",
    "sigma2 = 0.32\n",
    "\n",
    "def attribution(Option_type,K, S1,T1,r1,rf1,sigma1, S2,T2,r2,rf2,sigma2):\n",
    "    price_init = BlackScholes(Option_type,S1,K,T1,r1,rf1,sigma1).price \n",
    "    price_fin = BlackScholes(Option_type,S2,K,T2,r2,rf2,sigma2).price  \n",
    "    price_spot = BlackScholes(Option_type,S2,K,T1,r1,rf1,sigma1).price \n",
    "    price_vol = BlackScholes(Option_type,S1,K,T1,r1,rf1,sigma2).price \n",
    "    price_time = BlackScholes(Option_type,S1,K,T2,r1,rf1,sigma1).price \n",
    "    price_dom = BlackScholes(Option_type,S1,K,T1,r2,rf1,sigma1).price \n",
    "    price_fgn = BlackScholes(Option_type,S1,K,T1,r1,rf2,sigma1).price \n",
    "    \n",
    "    Real_PnL = price_fin-price_init\n",
    "    PnL_spot = price_spot-price_init\n",
    "    PnL_time = price_time-price_init\n",
    "    PnL_vol = price_vol-price_init\n",
    "    PnL_dom = price_dom-price_init\n",
    "    PnL_fgn = price_fgn-price_init\n",
    "    PnL = PnL_spot + PnL_time + PnL_vol + PnL_dom + PnL_fgn\n",
    "    Unexplained_PnL = Real_PnL - PnL\n",
    "    \n",
    "    print(\"Total PnL\",PnL)\n",
    "    print(\"Observed PnL\",Real_PnL)\n",
    "    print(end = '\\n')\n",
    "\n",
    "    print(\"Impact of price change\", round(PnL_spot/Real_PnL*100,2),\"%\")\n",
    "    print(\"Impact of time\", round(PnL_time/Real_PnL*100,2),\"%\")\n",
    "    print(\"Impact of volatility\", round(PnL_vol/Real_PnL*100,2),\"%\")\n",
    "    print(\"Impact of domestic rate\", round(PnL_dom/Real_PnL*100,2),\"%\")\n",
    "    print(\"Impact of foreign rate\", round(PnL_fgn/Real_PnL*100,2),\"%\")\n",
    "    print(\"Unexplained PnL\",round( Unexplained_PnL /Real_PnL*100,2),\"%\") \n"
   ]
  },
  {
   "cell_type": "code",
   "execution_count": 13,
   "metadata": {},
   "outputs": [
    {
     "name": "stdout",
     "output_type": "stream",
     "text": [
      "Total PnL 28.663657246276976\n",
      "Observed PnL 30.73023269480405\n",
      "\n",
      "Impact of price change 86.36 %\n",
      "Impact of time -1.12 %\n",
      "Impact of volatility 2.4 %\n",
      "Impact of domestic rate 2.48 %\n",
      "Impact of foreign rate 3.16 %\n",
      "Unexplained PnL 6.72 %\n"
     ]
    }
   ],
   "source": [
    "attribution(Option_type,K, S1,T1,r1,rf1,sigma1, S2,T2,r2,rf2,sigma2)"
   ]
  },
  {
   "cell_type": "code",
   "execution_count": null,
   "metadata": {},
   "outputs": [],
   "source": []
  }
 ],
 "metadata": {
  "kernelspec": {
   "display_name": "Python 3",
   "language": "python",
   "name": "python3"
  },
  "language_info": {
   "codemirror_mode": {
    "name": "ipython",
    "version": 3
   },
   "file_extension": ".py",
   "mimetype": "text/x-python",
   "name": "python",
   "nbconvert_exporter": "python",
   "pygments_lexer": "ipython3",
   "version": "3.7.6"
  }
 },
 "nbformat": 4,
 "nbformat_minor": 4
}
