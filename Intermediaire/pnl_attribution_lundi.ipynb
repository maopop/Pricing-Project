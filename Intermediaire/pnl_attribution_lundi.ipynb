{
 "cells": [
  {
   "cell_type": "code",
   "execution_count": 1,
   "metadata": {},
   "outputs": [],
   "source": [
    "import pandas as pd\n",
    "import numpy as np\n",
    "import seaborn as sns\n",
    "import matplotlib.pyplot as plt\n",
    "import random\n",
    "from scipy.stats import norm\n",
    "from math import *"
   ]
  },
  {
   "cell_type": "code",
   "execution_count": 2,
   "metadata": {},
   "outputs": [],
   "source": [
    "class BlackScholes:\n",
    "    \n",
    "        \n",
    "    def ft_bs_pricing(self, Option_type,S,K,T,r,rf,sigma):\n",
    "        \n",
    "        global d1\n",
    "        global d2\n",
    "        d1 = (log(S / K) + (r - rf + sigma ** 2 / 2) * T) / (sigma * sqrt(T)) \n",
    "        d2 = d1 - sigma* sqrt(T) \n",
    "        \n",
    "        if Option_type == \"Call\":\n",
    "            option_price = S* exp(-rf*T)* norm.cdf(d1) - K * exp(-r*T)*norm.cdf(d2)\n",
    "            return option_price\n",
    "        elif Option_type == \"Put\":\n",
    "            option_price = K* exp(-r*T)* norm.cdf(-d2) - S * exp(-rf*T)*norm.cdf(-d1)\n",
    "            return option_price\n",
    "        else:\n",
    "            return \"incorrect parameters\"\n",
    "       \n",
    "   \n",
    "    def ft_delta(self, Option_type,S,K,T,r,rf,sigma):\n",
    "        if Option_type == \"Call\":\n",
    "            delta = exp(-rf*T) * norm.cdf(d1)   \n",
    "        elif Option_type == \"Put\":\n",
    "            delta = exp(-rf*T) * (norm.cdf(d1)-1)\n",
    "        return delta\n",
    "    \n",
    "    \n",
    "    def ft_gamma(self, Option_type,S,K,T,r,rf,sigma):\n",
    "        return (norm.pdf(d1)*exp(-rf*T) )/ ( S*sigma*sqrt(T) )\n",
    "    \n",
    "    def ft_vega(self, Option_type,S,K,T,r,rf,sigma):\n",
    "        return S*sqrt(T)*norm.pdf(d1)*exp(-rf*T)\n",
    "    \n",
    "    def ft_theta(self, Option_type,S,K,T,r,rf,sigma):\n",
    "        a = (-S *norm.pdf(d1) *sigma* exp(-rf*T)) /(2*sqrt(T))\n",
    "        b = rf * S * norm.cdf(d1) * exp(-rf*T) \n",
    "        c = r * K * exp(-r*T)* norm.cdf(d2)\n",
    "        b2 = rf * S * norm.cdf(-d1) * exp(-rf*T) \n",
    "        c2 = r * K * exp(-r*T)* norm.cdf(-d2)\n",
    "        if Option_type == \"Call\":\n",
    "             theta = a+b-c   \n",
    "        elif Option_type == \"Put\":\n",
    "            theta = a-b2+c2 \n",
    "        return theta\n",
    "    \n",
    "    def ft_rho_dom(self, Option_type,S,K,T,r,rf,sigma):\n",
    "        if Option_type == \"Call\":\n",
    "            rho_dom = K * T *exp(-r*T) * norm.pdf(d2)   \n",
    "        elif Option_type == \"Put\":\n",
    "            rho_dom = -K * T *exp(-r*T) * norm.pdf(-d2)  \n",
    "        return rho_dom\n",
    "    \n",
    "    def ft_rho_fgn(self, Option_type,S,K,T,r,rf,sigma):\n",
    "        if Option_type == \"Call\":\n",
    "            rho_fgn = -S * T *exp(-rf*T) * norm.pdf(d1)   \n",
    "        elif Option_type == \"Put\":\n",
    "            rho_fgn = S * T *exp(-rf*T) * norm.pdf(-d1)  \n",
    "        return rho_fgn\n",
    "    \n",
    "    def ft_vanna(self, Option_type,S,K,T,r,rf,sigma):\n",
    "        return -exp(-rf*T) * norm.cdf(d1) * d2 / sigma \n",
    "    \n",
    "    \n",
    "    def __init__(self,Option_type,S,K,T,r,rf,sigma):\n",
    "        \n",
    "        self.option_type = Option_type\n",
    "        self.asset_price = S\n",
    "        self.strike = K\n",
    "        self.time_to_exp = T\n",
    "        self.d_rate = r\n",
    "        self.f_rate = rf\n",
    "        self.asset_volatility = sigma\n",
    "        \n",
    "        self.price = self.ft_bs_pricing(Option_type,S,K,T,r,rf,sigma)\n",
    "        \n",
    "        \n",
    "        self.delta = self.ft_delta(Option_type,S,K,T,r,rf,sigma)\n",
    "        self.gamma = self.ft_gamma(Option_type,S,K,T,r,rf,sigma)\n",
    "        self.theta = self.ft_theta(Option_type,S,K,T,r,rf,sigma)\n",
    "        self.vega = self.ft_vega(Option_type,S,K,T,r,rf,sigma)\n",
    "        self.rho_dom = self.ft_rho_dom(Option_type,S,K,T,r,rf,sigma)\n",
    "        self.rho_fgn = self.ft_rho_fgn(Option_type,S,K,T,r,rf,sigma)\n",
    "        self.vanna = self.ft_vanna(Option_type,S,K,T,r,rf,sigma)\n",
    "       "
   ]
  },
  {
   "cell_type": "markdown",
   "metadata": {},
   "source": [
    "## Risked based method"
   ]
  },
  {
   "cell_type": "code",
   "execution_count": 15,
   "metadata": {},
   "outputs": [
    {
     "name": "stdout",
     "output_type": "stream",
     "text": [
      "Total PnL -0.0010876194359203304\n",
      "Observed PnL 0.0036581012365731747\n",
      "\n",
      "Impact of price change 28.23 %\n",
      "Impact of time -65.78 %\n",
      "Impact of volatility 7.81 %\n",
      "Impact of domestic rate 0.0 %\n",
      "Impact of foreign rate 0.0 %\n",
      "Unexplained PnL 129.73 %\n"
     ]
    }
   ],
   "source": [
    "bs = BlackScholes(\"Call\",1.2034,1.1826, 0.5 ,0.00527843, 0.00137174, 0.0821)\n",
    "\n",
    "price1 = bs.price\n",
    "delta1 = bs.delta \n",
    "gamma1 = bs.gamma \n",
    "vega1 = bs.vega\n",
    "theta1 = bs.theta\n",
    "rho_dom1 = bs.rho_dom\n",
    "rho_fgn1 = bs.rho_fgn\n",
    "\n",
    "bs2 = BlackScholes(\"Call\",1.2050,1.1826, 7/12 ,0.00527843, 0.00137174, 0.0830)\n",
    "price2 = bs2.price\n",
    "\n",
    "var_spot = 0.0016\n",
    "var_vol = 0.0009\n",
    "var_time = -1/12\n",
    "var_rho_dom = 0.00\n",
    "var_rho_fgn = 0.00\n",
    "\n",
    "# taylor series approx : f(x) = f(x0) + f'(x0)(x-x0) + f''(x0)(x-x0)**2 +... \n",
    "PnL_spot =  delta1*var_spot + 0.5*gamma1*var_spot**2 #+ (1/6)*(bs2.gamma -bs.gamma)*var_spot**2 \n",
    "PnL_vol = vega1*var_vol\n",
    "PnL_time = -theta1*var_time\n",
    "PnL_dom = rho_dom1*var_rho_dom \n",
    "PnL_fgn = rho_fgn1*var_rho_fgn\n",
    "PnL = PnL_spot  + PnL_time + PnL_vol + PnL_dom + PnL_fgn\n",
    "\n",
    "Real_PnL = price2 - price1\n",
    "print(\"Total PnL\",PnL)\n",
    "print(\"Observed PnL\",Real_PnL)\n",
    "print(end = '\\n')\n",
    "\n",
    "print(\"Impact of price change\", round(PnL_spot/Real_PnL*100,2),\"%\")\n",
    "print(\"Impact of time\", round(PnL_time/Real_PnL*100,2),\"%\")\n",
    "print(\"Impact of volatility\", round(PnL_vol/Real_PnL*100,2),\"%\")\n",
    "print(\"Impact of domestic rate\", round(PnL_dom/Real_PnL*100,2),\"%\")\n",
    "print(\"Impact of foreign rate\", round(PnL_fgn/Real_PnL*100,2),\"%\")\n",
    "print(\"Unexplained PnL\",round( (Real_PnL - PnL) /Real_PnL*100,2),\"%\") \n"
   ]
  },
  {
   "cell_type": "code",
   "execution_count": null,
   "metadata": {},
   "outputs": [],
   "source": []
  },
  {
   "cell_type": "code",
   "execution_count": 10,
   "metadata": {},
   "outputs": [
    {
     "data": {
      "text/plain": [
       "0.5013698630136987"
      ]
     },
     "execution_count": 10,
     "metadata": {},
     "output_type": "execute_result"
    }
   ],
   "source": [
    "# Maturity\n",
    "import time\n",
    "from datetime import datetime\n",
    "\n",
    "T1 = '21/10/2020'\n",
    "T2 = '22/04/2021'\n",
    "t = pd.to_datetime(T2) - pd.to_datetime(T1)\n",
    "t.days/365"
   ]
  },
  {
   "cell_type": "code",
   "execution_count": null,
   "metadata": {},
   "outputs": [],
   "source": []
  },
  {
   "cell_type": "code",
   "execution_count": null,
   "metadata": {},
   "outputs": [],
   "source": []
  },
  {
   "cell_type": "code",
   "execution_count": 39,
   "metadata": {},
   "outputs": [
    {
     "name": "stdout",
     "output_type": "stream",
     "text": [
      "-44.56399999999849\n"
     ]
    }
   ],
   "source": [
    "vol1 = 8.21\n",
    "vol2 = 8.23\n",
    "dom1 = 0.527843\n",
    "dom2 = 0.50696\n",
    "fgn1 = 0.137174\n",
    "fgn2 = 0.138141\n",
    "fgn2-fgn1\n",
    "\n",
    "price1 = 19450.354\n",
    "price2 = 19405.79\n",
    "print(price2-price1)"
   ]
  },
  {
   "cell_type": "code",
   "execution_count": 42,
   "metadata": {},
   "outputs": [
    {
     "name": "stdout",
     "output_type": "stream",
     "text": [
      "-0.0\n",
      "-0.0050278\n",
      "-0.1493917808219178\n",
      "-0.1544195808219178\n"
     ]
    }
   ],
   "source": [
    "delta = -920.511\n",
    "gamma = -30.939\n",
    "theta = 54.528\n",
    "vega = -25.139\n",
    "rho_dom = 0\n",
    "rho_fgn = 0\n",
    "\n",
    "\n",
    "\n",
    "# taylor series approx : f(x) = f(x0) + f'(x0)(x-x0) + f''(x0)(x-x0)**2 +... \n",
    "PnL_spot =  delta*var_spot + 0.5*gamma*var_spot**2 #+ (1/6)*(bs2.gamma -bs.gamma)*var_spot**2 \n",
    "PnL_vol = vega*var_vol\n",
    "PnL_time = -theta*var_time\n",
    "PnL_dom = rho_dom*var_rho_dom \n",
    "PnL_fgn = rho_fgn*var_rho_fgn\n",
    "PnL = PnL_spot  + PnL_time + PnL_vol + PnL_dom + PnL_fgn\n",
    "\n",
    "\"\"\"\n",
    "Real_PnL = price2 - price1\n",
    "print(\"Total PnL\",PnL)\n",
    "print(\"Observed PnL\",Real_PnL)\n",
    "print(end = '\\n')\n",
    "\n",
    "print(\"Impact of price change\", round(PnL_spot/Real_PnL*100,2),\"%\")\n",
    "print(\"Impact of time\", round(PnL_time/Real_PnL*100,2),\"%\")\n",
    "print(\"Impact of volatility\", round(PnL_vol/Real_PnL*100,2),\"%\")\n",
    "print(\"Impact of domestic rate\", round(PnL_dom/Real_PnL*100,2),\"%\")\n",
    "print(\"Impact of foreign rate\", round(PnL_fgn/Real_PnL*100,2),\"%\")\n",
    "print(\"Unexplained PnL\",round( (Real_PnL - PnL) /Real_PnL*100,2),\"%\") \n",
    "\"\"\"\n",
    "\n",
    "print(PnL_spot)\n",
    "print(PnL_vol)\n",
    "print(PnL_time)\n",
    "print(PnL)"
   ]
  },
  {
   "cell_type": "code",
   "execution_count": null,
   "metadata": {},
   "outputs": [],
   "source": []
  }
 ],
 "metadata": {
  "kernelspec": {
   "display_name": "Python 3",
   "language": "python",
   "name": "python3"
  },
  "language_info": {
   "codemirror_mode": {
    "name": "ipython",
    "version": 3
   },
   "file_extension": ".py",
   "mimetype": "text/x-python",
   "name": "python",
   "nbconvert_exporter": "python",
   "pygments_lexer": "ipython3",
   "version": "3.7.6"
  }
 },
 "nbformat": 4,
 "nbformat_minor": 4
}
