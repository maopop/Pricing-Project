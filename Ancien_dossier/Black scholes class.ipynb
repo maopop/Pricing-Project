{
 "cells": [
  {
   "cell_type": "code",
   "execution_count": 24,
   "metadata": {},
   "outputs": [],
   "source": [
    "import numpy as np\n",
    "import matplotlib.pyplot as plt\n",
    "from scipy.stats import norm\n",
    "\n",
    "class BlackScholes:\n",
    "        \n",
    "    def bs_pricing(self, Option_type,S,K,T,r,rf,sigma):\n",
    "        d1 = (np.log(S/K) + (r - rf + sigma**2/2)*T) / sigma*np.sqrt(T)\n",
    "        d2 = d1 - sigma* np.sqrt(T)\n",
    "        if Option_type == \"c\":\n",
    "            option_price = S * np.exp(-rf*T)* norm.cdf(d1) - K * np.exp(-r*T)*norm.cdf(d2)\n",
    "            return option_price\n",
    "        elif Option_type == \"p\":\n",
    "            option_price = K * np.exp(-r*T)* norm.cdf(-d2) - S * np.exp(-rf*T)*norm.cdf(d1)\n",
    "            return option_price\n",
    "        else:\n",
    "            return \"incorrect parameters\"\n",
    "    \n",
    "    def __init__(self,Option_type,S,K,T,r,rf,sigma):\n",
    "        self.asset_price = S\n",
    "        self.strike_price = K\n",
    "        self.time_to_exp = T\n",
    "        self.d_rate = r\n",
    "        self.f_rate = rf\n",
    "        self.asset_volatility = sigma\n",
    "        self.price = bs_pricing(Option_type,S,K,T,r,rf,sigma)\n",
    "          "
   ]
  },
  {
   "cell_type": "code",
   "execution_count": 25,
   "metadata": {},
   "outputs": [
    {
     "ename": "NameError",
     "evalue": "name 'bs_pricing' is not defined",
     "output_type": "error",
     "traceback": [
      "\u001b[1;31m---------------------------------------------------------------------------\u001b[0m",
      "\u001b[1;31mNameError\u001b[0m                                 Traceback (most recent call last)",
      "\u001b[1;32m<ipython-input-25-6fbaa1035806>\u001b[0m in \u001b[0;36m<module>\u001b[1;34m\u001b[0m\n\u001b[0;32m      7\u001b[0m \u001b[0msigma\u001b[0m \u001b[1;33m=\u001b[0m \u001b[1;36m0.25\u001b[0m \u001b[1;31m# annual volatility in %\u001b[0m\u001b[1;33m\u001b[0m\u001b[1;33m\u001b[0m\u001b[0m\n\u001b[0;32m      8\u001b[0m \u001b[1;33m\u001b[0m\u001b[0m\n\u001b[1;32m----> 9\u001b[1;33m \u001b[0mbs\u001b[0m \u001b[1;33m=\u001b[0m \u001b[0mBlackScholes\u001b[0m\u001b[1;33m(\u001b[0m\u001b[1;34m\"c\"\u001b[0m\u001b[1;33m,\u001b[0m\u001b[0mS\u001b[0m\u001b[1;33m,\u001b[0m\u001b[0mK\u001b[0m\u001b[1;33m,\u001b[0m\u001b[0mT\u001b[0m\u001b[1;33m,\u001b[0m\u001b[0mr\u001b[0m\u001b[1;33m,\u001b[0m\u001b[0mrf\u001b[0m\u001b[1;33m,\u001b[0m\u001b[0msigma\u001b[0m\u001b[1;33m)\u001b[0m\u001b[1;33m\u001b[0m\u001b[1;33m\u001b[0m\u001b[0m\n\u001b[0m\u001b[0;32m     10\u001b[0m \u001b[0mprint\u001b[0m\u001b[1;33m(\u001b[0m \u001b[0mbs\u001b[0m\u001b[1;33m.\u001b[0m\u001b[0mprice\u001b[0m\u001b[1;33m)\u001b[0m\u001b[1;33m\u001b[0m\u001b[1;33m\u001b[0m\u001b[0m\n",
      "\u001b[1;32m<ipython-input-24-1aa6cd00c6dc>\u001b[0m in \u001b[0;36m__init__\u001b[1;34m(self, Option_type, S, K, T, r, rf, sigma)\u001b[0m\n\u001b[0;32m     24\u001b[0m         \u001b[0mself\u001b[0m\u001b[1;33m.\u001b[0m\u001b[0mf_rate\u001b[0m \u001b[1;33m=\u001b[0m \u001b[0mrf\u001b[0m\u001b[1;33m\u001b[0m\u001b[1;33m\u001b[0m\u001b[0m\n\u001b[0;32m     25\u001b[0m         \u001b[0mself\u001b[0m\u001b[1;33m.\u001b[0m\u001b[0masset_volatility\u001b[0m \u001b[1;33m=\u001b[0m \u001b[0msigma\u001b[0m\u001b[1;33m\u001b[0m\u001b[1;33m\u001b[0m\u001b[0m\n\u001b[1;32m---> 26\u001b[1;33m         \u001b[0mself\u001b[0m\u001b[1;33m.\u001b[0m\u001b[0mprice\u001b[0m \u001b[1;33m=\u001b[0m \u001b[0mbs_pricing\u001b[0m\u001b[1;33m(\u001b[0m\u001b[0mOption_type\u001b[0m\u001b[1;33m,\u001b[0m\u001b[0mS\u001b[0m\u001b[1;33m,\u001b[0m\u001b[0mK\u001b[0m\u001b[1;33m,\u001b[0m\u001b[0mT\u001b[0m\u001b[1;33m,\u001b[0m\u001b[0mr\u001b[0m\u001b[1;33m,\u001b[0m\u001b[0mrf\u001b[0m\u001b[1;33m,\u001b[0m\u001b[0msigma\u001b[0m\u001b[1;33m)\u001b[0m\u001b[1;33m\u001b[0m\u001b[1;33m\u001b[0m\u001b[0m\n\u001b[0m\u001b[0;32m     27\u001b[0m \u001b[1;33m\u001b[0m\u001b[0m\n",
      "\u001b[1;31mNameError\u001b[0m: name 'bs_pricing' is not defined"
     ]
    }
   ],
   "source": [
    "# EXAMPLE\n",
    "S = 100 #stock price S_{0}\n",
    "K = 110 # strike\n",
    "T = 1/2 # time to maturity\n",
    "r = 0.05 # domestic interest rate in annual %\n",
    "rf = 0.02 # foreign interest rate in annual %\n",
    "sigma = 0.25 # annual volatility in %\n",
    "\n",
    "bs = BlackScholes(\"c\",S,K,T,r,rf,sigma)\n",
    "print( bs.price)"
   ]
  },
  {
   "cell_type": "code",
   "execution_count": null,
   "metadata": {},
   "outputs": [],
   "source": []
  },
  {
   "cell_type": "code",
   "execution_count": null,
   "metadata": {},
   "outputs": [],
   "source": []
  }
 ],
 "metadata": {
  "kernelspec": {
   "display_name": "Python 3",
   "language": "python",
   "name": "python3"
  },
  "language_info": {
   "codemirror_mode": {
    "name": "ipython",
    "version": 3
   },
   "file_extension": ".py",
   "mimetype": "text/x-python",
   "name": "python",
   "nbconvert_exporter": "python",
   "pygments_lexer": "ipython3",
   "version": "3.7.6"
  }
 },
 "nbformat": 4,
 "nbformat_minor": 4
}
