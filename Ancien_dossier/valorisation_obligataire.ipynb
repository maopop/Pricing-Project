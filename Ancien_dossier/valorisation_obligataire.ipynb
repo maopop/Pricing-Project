{
 "cells": [
  {
   "cell_type": "raw",
   "metadata": {},
   "source": [
    "\"Parametre d'entree\"\n",
    "\n",
    "N \"nominal\n",
    "d_emis \"date_emis\n",
    "d_jouis \"date_jouis\n",
    "d_ech \"date_ech\n",
    "d_val \"date_val\n",
    "tf \"taux_coup\n",
    "tr \"taux_rend\n",
    "\n",
    "\"sortie\"\n",
    "\n",
    "C \"Coupon plein\n",
    "P \"prix dirty\n",
    "Cc \"coupon couru\"\n",
    "\n",
    "\"Intermediaire\"\n",
    "\n",
    "mr \"maturite residuel\"\n",
    "mi \"maturite initiale\"\n",
    "ddc \"date du dernier coupon\"\n",
    "A  \"Nombre de jours exact de l’année écoulée, égal à 366 si cette dernière inclut un 29 février\n",
    "n \"nombre de coupon restant avant la maturité\n",
    "nj \"nombre de jours entre date de valorisation et date du prochain coupon \"\n",
    "d_pc \": Date du premier coupon"
   ]
  },
  {
   "cell_type": "code",
   "execution_count": 3,
   "metadata": {},
   "outputs": [],
   "source": [
    "import numpy as np\n",
    "from datetime import datetime, date, timedelta\n",
    "import pandas as pd"
   ]
  },
  {
   "cell_type": "code",
   "execution_count": 191,
   "metadata": {},
   "outputs": [],
   "source": [
    "class bonds:\n",
    "        \n",
    "    def __init__(self,\n",
    "                 N : np.float,\n",
    "                 tf : np.float,\n",
    "                 tr : np.float,\n",
    "                 d_emis : np.str,\n",
    "                 d_jouis : np.str,\n",
    "                 d_ech : np.str,\n",
    "                 d_val : np.str):  \n",
    "    \n",
    "        self.N = N\n",
    "        self.tf = tf\n",
    "        self.tr = tr\n",
    "        self.d_emis = datetime.strptime(d_emis, '%d-%m-%Y').date()\n",
    "        self.d_jouis = datetime.strptime(d_jouis, '%d-%m-%Y').date()\n",
    "        self.d_ech = datetime.strptime(d_ech, '%d-%m-%Y').date()\n",
    "        self.d_val = datetime.strptime(d_val, '%d-%m-%Y').date()\n",
    "        \n",
    "        \n",
    "        \"calcul intermediaire\"\n",
    "        \n",
    "        # maturite residuelle et initiale\n",
    "        self.mr = (self.d_ech - self.d_val).days\n",
    "        self.mi = (self.d_ech - self.d_emis).days\n",
    "        \n",
    "        # date du dernier coupon (ddc) et date du prochain coupon (dpc)\n",
    "        ddc = self.d_jouis\n",
    "        dpc = ddc.replace(year = ddc.year+1)\n",
    "        while dpc < self.d_val:\n",
    "            dpc = dpc.replace(year= dpc.year +1)\n",
    "        self.ddc = dpc.replace(year = dpc.year-1)\n",
    "        self.dpc = dpc\n",
    "        \n",
    "        # Nombre de jours exact de l’année écoulée ???????\n",
    "        self.A = 365\n",
    "        \n",
    "        # nombre de jours entre date de valorisation et date du prochain coupon \n",
    "        self.nj = (self.dpc - self.d_val).days \n",
    "        \n",
    "        # nombre de coupon restant avant la maturité\n",
    "        self.n = (self.d_ech.year - self.dpc.year) + 1\n",
    "        \n",
    "        # Date du premier coupon ?????????\n",
    "        # d_pc = \"date_jouissnce+ frequence\"???\n",
    "        \n",
    "           \n",
    "        \"sortie\"\n",
    "\n",
    "        self.dirty_price = self.calculator(N,tf,tr,d_emis,d_jouis,d_ech,d_val)[0]\n",
    "        self.coupon_couru = self.calculator(N,tf,tr,d_emis,d_jouis,d_ech,d_val)[1]\n",
    "        self.clean_price = self.calculator(N,tf,tr,d_emis,d_jouis,d_ech,d_val)[2]\n",
    "    \n",
    "    \n",
    "    def calculator(self,N,tf,tr,d_emis,d_jouis,d_ech,d_val): #7 parametres dont 4 dates\n",
    "\n",
    "        if self.mi <= self.A : #maturite initiale inferieure a 1an\n",
    "\n",
    "            C = N * tf * self.mi / 360\n",
    "            P = (N + C) / (1+ tr*self.mr /360)\n",
    "            Cc = N*tf* (self.mi-self.mr) / 360\n",
    "\n",
    "        else:  #maturite initiale superieure a 1an\n",
    "\n",
    "            if self.mr <= self.A: #maturite residuelle inferieure a 1an\n",
    "\n",
    "                if d_jouis == d_emis: #Ligne simple, ou ligne atypique à plusieurs flux\n",
    "\n",
    "                    C = N*tf\n",
    "                    P = (N + C) / (1+ tr*self.mr/360)\n",
    "                    Cc = N*tf* (self.d_val - self.ddc).days  / self.A \n",
    "\n",
    "                else: # Ligne atypique à un seul flux\n",
    "\n",
    "                    C = N*tf*mi\n",
    "                    P = (N + C) / (1+ tr*self.mr/360)\n",
    "                    Cc = N*tf* (self.d_val-d_emis).days / self.A\n",
    "\n",
    "            else: # maturite residuelle superieure a 1an\n",
    "\n",
    "                if d_jouis == d_emis : # Ligne simple\n",
    "\n",
    "                    C = N*tf\n",
    "                    Cc = N*tf* (self.d_val-self.ddc).days / self.A\n",
    "                    s = 0\n",
    "                    for i in range(1,self.n+1): # n compris\n",
    "                        s = s + C/ (1+tr)**(i-1)\n",
    "                    P = ( s + N/ (1+tr)**(self.n-1))  / (1+tr)**(self.nj / self.A)\n",
    "\n",
    "                else: # Ligne atypique \n",
    "                    \"\"\"\n",
    "                    if d_val < d_pc: # ligne a plusieurs flux où Date d’évaluation < Date du détachement du premier coupon\n",
    "\n",
    "                        C1 = N*tf* (d_pc-d_emis) /A  # Premier coupon plein\n",
    "                        C = N*tf  # Les autres coupons pleins\n",
    "                        Cc = N*tf* (d_val-d_emis) / A\n",
    "                        for i in range(2,n+1): # n compris\n",
    "                            s = s + C1 + C/ (1+tr)**(i-1)\n",
    "                        P = ( s + N/ (1+tr)**(n-1))  / (1+tr)**(nj/A)\n",
    "                    \n",
    "                    else: # Ligne atypique à 1 seul flux ou (à plusieurs flux où d_val >= d_pc)\n",
    "                    \"\"\"\n",
    "                    C = N*tf\n",
    "                    Cc = N*tf* (d_val-self.ddc) / A\n",
    "                    s = 0\n",
    "                    for i in range(1,self.n+1): #n compris\n",
    "                        s = s + C/ (1+tr)**(i-1)\n",
    "                    P = ( s + N/ (1+tr)**(self.n-1))  / (1+tr)**(self.nj / self.A)\n",
    "                        \n",
    "        return  (P,Cc,P-Cc)\n",
    "            \n",
    "            \n"
   ]
  },
  {
   "cell_type": "code",
   "execution_count": 213,
   "metadata": {},
   "outputs": [
    {
     "data": {
      "text/plain": [
       "103824.75673488462"
      ]
     },
     "execution_count": 213,
     "metadata": {},
     "output_type": "execute_result"
    }
   ],
   "source": [
    "N = 100000\n",
    "tf = 0.039\n",
    "tr = 0.02463\n",
    "d_emis = \"21-10-2014\"\n",
    "d_jouis = \"21-10-2014\"\n",
    "d_ech = \"21-10-2019\"\n",
    "d_val = \"23-03-2018\"\n",
    "bond = bonds(N,tf,tr,d_emis,d_jouis,d_ech,d_val)\n",
    "bond.dirty_price"
   ]
  },
  {
   "cell_type": "code",
   "execution_count": 214,
   "metadata": {},
   "outputs": [
    {
     "data": {
      "text/plain": [
       "1634.7945205479452"
      ]
     },
     "execution_count": 214,
     "metadata": {},
     "output_type": "execute_result"
    }
   ],
   "source": [
    "bond.coupon_couru"
   ]
  },
  {
   "cell_type": "code",
   "execution_count": 215,
   "metadata": {},
   "outputs": [
    {
     "data": {
      "text/plain": [
       "102189.96221433667"
      ]
     },
     "execution_count": 215,
     "metadata": {},
     "output_type": "execute_result"
    }
   ],
   "source": [
    "bond.clean_price"
   ]
  },
  {
   "cell_type": "code",
   "execution_count": null,
   "metadata": {},
   "outputs": [],
   "source": []
  }
 ],
 "metadata": {
  "kernelspec": {
   "display_name": "Python 3",
   "language": "python",
   "name": "python3"
  },
  "language_info": {
   "codemirror_mode": {
    "name": "ipython",
    "version": 3
   },
   "file_extension": ".py",
   "mimetype": "text/x-python",
   "name": "python",
   "nbconvert_exporter": "python",
   "pygments_lexer": "ipython3",
   "version": "3.7.6"
  }
 },
 "nbformat": 4,
 "nbformat_minor": 4
}
