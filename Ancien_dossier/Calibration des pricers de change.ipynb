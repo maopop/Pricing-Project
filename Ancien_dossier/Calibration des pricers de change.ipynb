{
 "cells": [
  {
   "cell_type": "code",
   "execution_count": 222,
   "metadata": {},
   "outputs": [],
   "source": [
    "# les bibliotheques\n",
    "from scipy.stats import norm\n",
    "from math import *\n"
   ]
  },
  {
   "cell_type": "markdown",
   "metadata": {},
   "source": [
    "## Pricing des options vanilles de type europeen avec BS"
   ]
  },
  {
   "cell_type": "markdown",
   "metadata": {},
   "source": [
    "### 1-Valeur du call et put"
   ]
  },
  {
   "cell_type": "code",
   "execution_count": 223,
   "metadata": {},
   "outputs": [],
   "source": [
    "# les inputs\n",
    "\n",
    "s = 100 # taux de change à t=0\n",
    "k = 100  # le strike(ou prix d'exercice)\n",
    "t = 0.5 # la date d'echeance  (=nbre de jour/360)\n",
    "rf = 0 # taux d'interet etranger\n",
    "r = 0.05  # taux d'interet domestique\n",
    "sigma = 0.35 # volatilité du taux de change\n",
    "\n",
    "# Output: valeur du call ou put          \n",
    "def bs_price_call(s,k,t,r,rf,sigma):\n",
    "    d1 = (log(s/k) + (r - rf + 0.5*sigma**2)*t) / (sigma*sqrt(t))  \n",
    "    d2 = d1-sigma*sqrt(t)\n",
    "    price_call = s * exp(-rf*t) * norm.cdf(d1) - (k*exp(-r*t)*norm.cdf(d2))\n",
    "    return price_call\n",
    "def bs_price_put(s,k,t,r,rf,sigma):\n",
    "    d1= (log(s/k)+(r-rf+0.5*sigma**2)*t) / (sigma*sqrt(t))  \n",
    "    d2 = d1-sigma*sqrt(t)\n",
    "    price_put = k*exp(-r*t)*norm.cdf(-d2)-(s*exp(-rf*t)*norm.cdf(-d1)) \n",
    "    return price_put\n",
    "        "
   ]
  },
  {
   "cell_type": "code",
   "execution_count": 224,
   "metadata": {},
   "outputs": [
    {
     "data": {
      "text/plain": [
       "11.010433748432774"
      ]
     },
     "execution_count": 224,
     "metadata": {},
     "output_type": "execute_result"
    }
   ],
   "source": [
    "bs_price_call(s,k,t,r,rf,sigma)"
   ]
  },
  {
   "cell_type": "markdown",
   "metadata": {},
   "source": [
    "### 2-Les lettres grecques"
   ]
  },
  {
   "cell_type": "code",
   "execution_count": 225,
   "metadata": {},
   "outputs": [],
   "source": [
    "def delta_call(s,k,t,r,rf,sigma):\n",
    "    d1= (log(s/k)+(r-rf+0.5*sigma**2)*t) / (sigma*sqrt(t))  \n",
    "    return exp(-r*t)*norm.cdf(d1)\n",
    "def delta_put(s,k,t,r,rf,sigma):\n",
    "    d1= (log(s/k)+(r-rf+0.5*sigma**2)*t) / (sigma*sqrt(t))  \n",
    "    return exp(-r*t) * (norm.cdf(d1)-1)\n",
    "def gamma_call_put(s,k,t,r,rf,sigma):\n",
    "    d1= (log(s/k)+(r-rf+0.5*sigma**2)*t) / (sigma*sqrt(t))  \n",
    "    return norm.pdf(d1)*exp(-rf*t)/s*sigma*sqrt(t)\n",
    "def theta_call(s,k,t,r,rf,sigma):\n",
    "    d1= (log(s/k)+(r-rf+0.5*sigma**2)*t) / (sigma*sqrt(t))\n",
    "    d2 = d1-sigma*sqrt(t)\n",
    "    a = -s*norm.pdf(d1)*sigma*exp(-rf*t) /(2*sqrt(t))\n",
    "    b = rf*s*norm.cdf(d1)*exp(-rf*t) \n",
    "    c = r*k*exp(-r*t)*norm.cdf(d2)\n",
    "    return a+b-c\n",
    "def theta_put(s,k,t,r,rf,sigma):\n",
    "    d1= (log(s/k)+(r-rf+0.5*sigma**2)*t) / (sigma*sqrt(t))  \n",
    "    d2 = d1-sigma*sqrt(t)\n",
    "    a = -s*norm.pdf(d1)*sigma*exp(-rf*t) /(2*sqrt(t))\n",
    "    b = rf*s*norm.cdf(-d1)*exp(-rf*t) \n",
    "    c = r*k*exp(-r*t)*norm.cdf(-d2)\n",
    "    return a-b+c   \n",
    "def vega_call_put(s,k,t,r,rf,sigma):\n",
    "    d1= (log(s/k)+(r-rf+0.5*sigma**2)*t) / (sigma*sqrt(t))  \n",
    "    return s*sqrt(t)*norm.pdf(d1)*exp(-rf*t)\n",
    "def vanna_call_put(s,k,t,r,rf,sigma):\n",
    "    return \n",
    "def volga_call_put(s,k,t,r,rf,sigma):\n",
    "    return \n"
   ]
  },
  {
   "cell_type": "code",
   "execution_count": 226,
   "metadata": {},
   "outputs": [
    {
     "name": "stdout",
     "output_type": "stream",
     "text": [
      "prix du call =  11.010433748432774\n",
      "delta =  0.5743761929305299\n",
      "gamma =  0.0009627057727444755\n",
      "theta =  -12.021119017427761\n",
      "vega =  27.50587922127073\n"
     ]
    }
   ],
   "source": [
    "call = bs_price_call(s,k,t,r,rf,sigma)\n",
    "print(\"prix du call = \", call)\n",
    "print( \"delta = \" ,delta_call(s,k,t,r,rf,sigma))\n",
    "print( \"gamma = \" , gamma_call_put(s,k,t,r,rf,sigma))\n",
    "print( \"theta = \" , theta_call(s,k,t,r,rf,sigma))\n",
    "print( \"vega = \" , vega_call_put(s,k,t,r,rf,sigma))"
   ]
  },
  {
   "cell_type": "code",
   "execution_count": 227,
   "metadata": {},
   "outputs": [
    {
     "name": "stdout",
     "output_type": "stream",
     "text": [
      "prix du put =  8.541424951266038\n",
      "delta =  -0.40093371909780273\n",
      "gamma =  0.0009627057727444755\n",
      "theta =  -7.1445694572860985\n",
      "vega =  27.50587922127073\n"
     ]
    }
   ],
   "source": [
    "put = bs_price_put(s,k,t,r,rf,sigma)\n",
    "print(\"prix du put = \", put)\n",
    "print( \"delta = \" ,delta_put(s,k,t,r,rf,sigma))\n",
    "print( \"gamma = \" , gamma_call_put(s,k,t,r,rf,sigma))\n",
    "print( \"theta = \" , theta_put(s,k,t,r,rf,sigma))\n",
    "print( \"vega = \" , vega_call_put(s,k,t,r,rf,sigma))"
   ]
  },
  {
   "cell_type": "markdown",
   "metadata": {},
   "source": [
    "## Volatilité implicite: Methode de Newton-Raphson"
   ]
  },
  {
   "cell_type": "code",
   "execution_count": 228,
   "metadata": {},
   "outputs": [],
   "source": [
    "def NewtRaph(target_value, s, k, t, r, rf):\n",
    "    MAX_ITERATIONS = 100\n",
    "    PRECISION = 1.0e-5\n",
    "    sigma = 0.5\n",
    "    for i in range(0, MAX_ITERATIONS):\n",
    "        price = bs_price_call(s,k,t,r,rf,sigma)\n",
    "        vega = vega_call_put(s,k,t,r,rf,sigma)\n",
    "        diff = target_value - price  # our root\n",
    "        if (abs(diff) < PRECISION):\n",
    "            return sigma\n",
    "        sigma = sigma + diff/vega \n",
    "    return sigma "
   ]
  },
  {
   "cell_type": "code",
   "execution_count": 229,
   "metadata": {},
   "outputs": [
    {
     "name": "stdout",
     "output_type": "stream",
     "text": [
      "Implied vol: 35.00%\n",
      "Market price = 11.01\n",
      "Model price = 11.01\n"
     ]
    }
   ],
   "source": [
    "s = 100\n",
    "k = 100\n",
    "t = 0.5 # 11\n",
    "r = 0.05 #0.01\n",
    "vol = 0.35\n",
    "\n",
    "V_market = bs_price_call(s,k,t,r,rf,sigma)\n",
    "implied_vol = NewtRaph(V_market, s, k, t, r, rf)\n",
    "\n",
    "print ('Implied vol: %.2f%%' % (implied_vol * 100))\n",
    "print ('Market price = %.2f' % V_market)\n",
    "print ('Model price = %.2f' % bs_price_call(s, k, t, r,rf, implied_vol))"
   ]
  },
  {
   "cell_type": "markdown",
   "metadata": {},
   "source": [
    "## Volatilité locale : Modele de Dupire\n"
   ]
  },
  {
   "cell_type": "code",
   "execution_count": 232,
   "metadata": {},
   "outputs": [],
   "source": [
    "def deriv1():\n",
    "    h = 0.00001\n",
    "    sigma = 0.01 # problem here: which value for initialization ?\n",
    "    return ( bs_price_call(s,k,t+h,r,rf,sigma)-bs_price_call(s,k,t-h,r,rf,sigma) ) / (2*h)\n",
    "def deriv2():\n",
    "    h = 0.00001\n",
    "    sigma = 0.01\n",
    "    return ( bs_price_call(s,k-h,t,r,rf,sigma) - 2*bs_price_call(s,k,t,r,rf,sigma)+ bs_price_call(s,k+h,t,r,rf,sigma) ) / (h**2)\n",
    "    \n",
    "def dupire(s,k,t,r,rf):\n",
    "    local = sqrt( (deriv1() ) / ( 0.5*(k**2)*deriv2() ) )\n",
    "    return local"
   ]
  },
  {
   "cell_type": "code",
   "execution_count": 233,
   "metadata": {},
   "outputs": [
    {
     "data": {
      "text/plain": [
       "0.9901280561480059"
      ]
     },
     "execution_count": 233,
     "metadata": {},
     "output_type": "execute_result"
    }
   ],
   "source": [
    "dupire(s,k,t,r,rf)"
   ]
  },
  {
   "cell_type": "markdown",
   "metadata": {},
   "source": [
    "## Volatilité stochastique"
   ]
  },
  {
   "cell_type": "markdown",
   "metadata": {},
   "source": [
    "### 1-Modele GARCH"
   ]
  },
  {
   "cell_type": "code",
   "execution_count": null,
   "metadata": {},
   "outputs": [],
   "source": []
  },
  {
   "cell_type": "markdown",
   "metadata": {},
   "source": [
    "### 2-Modele de Helson"
   ]
  },
  {
   "cell_type": "code",
   "execution_count": null,
   "metadata": {},
   "outputs": [],
   "source": []
  }
 ],
 "metadata": {
  "kernelspec": {
   "display_name": "Python 3",
   "language": "python",
   "name": "python3"
  },
  "language_info": {
   "codemirror_mode": {
    "name": "ipython",
    "version": 3
   },
   "file_extension": ".py",
   "mimetype": "text/x-python",
   "name": "python",
   "nbconvert_exporter": "python",
   "pygments_lexer": "ipython3",
   "version": "3.7.6"
  }
 },
 "nbformat": 4,
 "nbformat_minor": 4
}
